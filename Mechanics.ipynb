{
 "cells": [
  {
   "cell_type": "markdown",
   "id": "c9abd737-c68b-4ac0-a960-d46949bd85c3",
   "metadata": {},
   "source": [
    "The SymPy mechanics library had been using SymEngine as alternative backend of SymPy \n",
    "Recently, the maintainers had dropped that\n",
    "\n",
    "https://github.com/sympy/sympy/issues/25401\n",
    "\n",
    "we may need to do some case studies about how they used to implement something that really interoperates between SymPy and SymEngine,\n",
    "and if there were any problems in that approach."
   ]
  },
  {
   "cell_type": "markdown",
   "id": "f6f4b45f-df4c-49e4-a491-9a2659f6c053",
   "metadata": {},
   "source": [
    "# Expression\n",
    "\n",
    "The expression differences in the SymPy and SymEngine was noted in the tests,\n",
    "and they had failed to make tests with other invariants,\n",
    "but skipped the tests conditionally when SymEngine is used.\n",
    "\n",
    "```\n",
    "    @pytest.mark.skipif(\n",
    "        USE_SYMENGINE,\n",
    "        reason=(\n",
    "            'SymEngine give equivalent expression that does not compare equal;'\n",
    "            'SymPy puts the sqrt(q(t)**2) term in the numerator, while '\n",
    "            'SymEngine puts it in the denominator'\n",
    "        )\n",
    "    )\n",
    "```"
   ]
  },
  {
   "cell_type": "markdown",
   "id": "98d767b3-286e-4d19-8e82-eee9220fdb56",
   "metadata": {},
   "source": [
    "# dynamicsymbols\n",
    "\n",
    "dynamicsymbols may be a feature that SymEngine did not support with lambdify\n",
    "\n",
    "```\n",
    "    if USE_SYMENGINE:\n",
    "        skip('symengine does not support lambdify with dynamicsymbols.')\n",
    "```"
   ]
  },
  {
   "cell_type": "code",
   "execution_count": null,
   "id": "f6b685aa-a2fc-4151-af78-def2e32c83f4",
   "metadata": {},
   "outputs": [],
   "source": []
  }
 ],
 "metadata": {
  "kernelspec": {
   "display_name": "Python 3 (ipykernel)",
   "language": "python",
   "name": "python3"
  },
  "language_info": {
   "codemirror_mode": {
    "name": "ipython",
    "version": 3
   },
   "file_extension": ".py",
   "mimetype": "text/x-python",
   "name": "python",
   "nbconvert_exporter": "python",
   "pygments_lexer": "ipython3",
   "version": "3.11.4"
  }
 },
 "nbformat": 4,
 "nbformat_minor": 5
}
