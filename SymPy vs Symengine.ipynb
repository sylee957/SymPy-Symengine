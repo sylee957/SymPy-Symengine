{
 "cells": [
  {
   "cell_type": "markdown",
   "id": "c95dd0c4-b0e5-44b6-badf-e27a578c6c60",
   "metadata": {},
   "source": [
    "# Evaluation difference\n",
    "\n",
    "SymPy is known to expand 2*(x + y), however, SymEngine does not."
   ]
  },
  {
   "cell_type": "code",
   "execution_count": 22,
   "id": "93a5fbc2-ed2b-4d0e-944b-396442fab84a",
   "metadata": {},
   "outputs": [
    {
     "data": {
      "text/plain": [
       "2*(x + y)"
      ]
     },
     "execution_count": 22,
     "metadata": {},
     "output_type": "execute_result"
    }
   ],
   "source": [
    "import symengine\n",
    "\n",
    "x = symengine.Symbol('x')\n",
    "y = symengine.Symbol('y')\n",
    "2*(x + y)"
   ]
  },
  {
   "cell_type": "code",
   "execution_count": 19,
   "id": "2a32c145-7134-4290-8f37-451d444d0f54",
   "metadata": {},
   "outputs": [
    {
     "data": {
      "text/latex": [
       "$\\displaystyle 2 x + 2 y$"
      ],
      "text/plain": [
       "2*x + 2*y"
      ]
     },
     "execution_count": 19,
     "metadata": {},
     "output_type": "execute_result"
    }
   ],
   "source": [
    "import sympy\n",
    "\n",
    "x = sympy.Symbol('x')\n",
    "y = sympy.Symbol('y')\n",
    "2*(x + y)"
   ]
  },
  {
   "cell_type": "markdown",
   "id": "c2f416f5-e807-4529-a704-6429bdb26378",
   "metadata": {},
   "source": [
    "# Option difference\n",
    "\n",
    "SymPy's function often has the options that Symengine doesn't have, \n",
    "\n",
    "Solution: Encourage SymPy developers to provide more simple API (like `expand(), simplify()`) for functions, than lots of options.\n",
    "\n",
    "Encourage users to rely less on the behavior of options.\n",
    "\n",
    "Options should just be some 'tweaks' that doesn't affect results significantly when it exists or not, and it shouldn't be major part of the logic."
   ]
  },
  {
   "cell_type": "code",
   "execution_count": 29,
   "id": "f53a3385-15c2-4c0f-851e-74e9ccf2a849",
   "metadata": {},
   "outputs": [
    {
     "data": {
      "text/latex": [
       "$\\displaystyle \\sin{\\left(x \\right)} \\cos{\\left(y \\right)} + \\sin{\\left(y \\right)} \\cos{\\left(x \\right)}$"
      ],
      "text/plain": [
       "sin(x)*cos(y) + sin(y)*cos(x)"
      ]
     },
     "execution_count": 29,
     "metadata": {},
     "output_type": "execute_result"
    }
   ],
   "source": [
    "x = sympy.Symbol('x')\n",
    "y = sympy.Symbol('y')\n",
    "sympy.expand(sympy.sin(x + y), trig=True)"
   ]
  },
  {
   "cell_type": "code",
   "execution_count": 32,
   "id": "d41974f6-49dc-4706-b9f9-2585002e90a1",
   "metadata": {},
   "outputs": [
    {
     "ename": "TypeError",
     "evalue": "expand() got an unexpected keyword argument 'trig'",
     "output_type": "error",
     "traceback": [
      "\u001b[0;31m---------------------------------------------------------------------------\u001b[0m",
      "\u001b[0;31mTypeError\u001b[0m                                 Traceback (most recent call last)",
      "Cell \u001b[0;32mIn[32], line 3\u001b[0m\n\u001b[1;32m      1\u001b[0m x \u001b[38;5;241m=\u001b[39m symengine\u001b[38;5;241m.\u001b[39mSymbol(\u001b[38;5;124m'\u001b[39m\u001b[38;5;124mx\u001b[39m\u001b[38;5;124m'\u001b[39m)\n\u001b[1;32m      2\u001b[0m y \u001b[38;5;241m=\u001b[39m symengine\u001b[38;5;241m.\u001b[39mSymbol(\u001b[38;5;124m'\u001b[39m\u001b[38;5;124my\u001b[39m\u001b[38;5;124m'\u001b[39m)\n\u001b[0;32m----> 3\u001b[0m \u001b[43msymengine\u001b[49m\u001b[38;5;241;43m.\u001b[39;49m\u001b[43mexpand\u001b[49m\u001b[43m(\u001b[49m\u001b[43msympy\u001b[49m\u001b[38;5;241;43m.\u001b[39;49m\u001b[43msin\u001b[49m\u001b[43m(\u001b[49m\u001b[43mx\u001b[49m\u001b[43m \u001b[49m\u001b[38;5;241;43m+\u001b[39;49m\u001b[43m \u001b[49m\u001b[43my\u001b[49m\u001b[43m)\u001b[49m\u001b[43m,\u001b[49m\u001b[43m \u001b[49m\u001b[43mtrig\u001b[49m\u001b[38;5;241;43m=\u001b[39;49m\u001b[38;5;28;43;01mTrue\u001b[39;49;00m\u001b[43m)\u001b[49m\n",
      "File \u001b[0;32msymengine_wrapper.pyx:4217\u001b[0m, in \u001b[0;36msymengine.lib.symengine_wrapper.expand\u001b[0;34m()\u001b[0m\n",
      "\u001b[0;31mTypeError\u001b[0m: expand() got an unexpected keyword argument 'trig'"
     ]
    }
   ],
   "source": [
    "x = symengine.Symbol('x')\n",
    "y = symengine.Symbol('y')\n",
    "symengine.expand(sympy.sin(x + y), trig=True)"
   ]
  },
  {
   "cell_type": "markdown",
   "id": "d1316447-52fb-4b54-83d3-a4327cb13051",
   "metadata": {},
   "source": [
    "# Feature difference\n",
    "\n",
    "SymPy now have `extended_real` as assumptions, however, symengine does not catch this up."
   ]
  },
  {
   "cell_type": "code",
   "execution_count": 38,
   "id": "94440f26-ecca-4335-9344-5cb57953b502",
   "metadata": {},
   "outputs": [
    {
     "data": {
      "text/plain": [
       "True"
      ]
     },
     "execution_count": 38,
     "metadata": {},
     "output_type": "execute_result"
    }
   ],
   "source": [
    "x = sympy.Symbol('x', extended_real=True)\n",
    "x.is_extended_real"
   ]
  },
  {
   "cell_type": "code",
   "execution_count": 39,
   "id": "623ad6b9-d8e0-4fbe-a5df-b90c3fe0487f",
   "metadata": {},
   "outputs": [
    {
     "ename": "AttributeError",
     "evalue": "'symengine.lib.symengine_wrapper.Symbol' object has no attribute 'is_extended_real'",
     "output_type": "error",
     "traceback": [
      "\u001b[0;31m---------------------------------------------------------------------------\u001b[0m",
      "\u001b[0;31mAttributeError\u001b[0m                            Traceback (most recent call last)",
      "Cell \u001b[0;32mIn[39], line 2\u001b[0m\n\u001b[1;32m      1\u001b[0m x \u001b[38;5;241m=\u001b[39m symengine\u001b[38;5;241m.\u001b[39mSymbol(\u001b[38;5;124m'\u001b[39m\u001b[38;5;124mx\u001b[39m\u001b[38;5;124m'\u001b[39m, extended_real\u001b[38;5;241m=\u001b[39m\u001b[38;5;28;01mTrue\u001b[39;00m)\n\u001b[0;32m----> 2\u001b[0m \u001b[43mx\u001b[49m\u001b[38;5;241;43m.\u001b[39;49m\u001b[43mis_extended_real\u001b[49m\n",
      "\u001b[0;31mAttributeError\u001b[0m: 'symengine.lib.symengine_wrapper.Symbol' object has no attribute 'is_extended_real'"
     ]
    }
   ],
   "source": [
    "x = symengine.Symbol('x', extended_real=True)\n",
    "x.is_extended_real"
   ]
  },
  {
   "cell_type": "markdown",
   "id": "a58c079c-b92f-46a3-9b6b-d76e97d8edea",
   "metadata": {},
   "source": [
    "# Module difference\n",
    "\n",
    "SymPy have geometry module, however, SymEngine does not have geometry module.\n",
    "\n",
    "Solution: Encourage SymPy to have rich 3rd party plugin systems, than implementing everything inside core.\n",
    "\n",
    "examples are `galgabra, sympy-plot-backends, algebra-over-sympy, ...`, \n",
    "\n",
    "and some modules like `geometry`, `stats`, `physics` can be split out."
   ]
  },
  {
   "cell_type": "code",
   "execution_count": 42,
   "id": "da733c58-d742-4a81-88d2-51afd8102283",
   "metadata": {},
   "outputs": [
    {
     "data": {
      "text/plain": [
       "<module 'sympy.geometry' from '/home/vscode/.cache/pypoetry/virtualenvs/sympy-symengine-BfGhUN9M-py3.11/lib/python3.11/site-packages/sympy/geometry/__init__.py'>"
      ]
     },
     "execution_count": 42,
     "metadata": {},
     "output_type": "execute_result"
    }
   ],
   "source": [
    "sympy.geometry"
   ]
  },
  {
   "cell_type": "code",
   "execution_count": 44,
   "id": "c855cea4-ec3b-499d-bc28-d0fbf6b897a6",
   "metadata": {},
   "outputs": [
    {
     "ename": "ImportError",
     "evalue": "cannot import name 'geometry' from 'symengine' (/home/vscode/.cache/pypoetry/virtualenvs/sympy-symengine-BfGhUN9M-py3.11/lib/python3.11/site-packages/symengine/__init__.py)",
     "output_type": "error",
     "traceback": [
      "\u001b[0;31m---------------------------------------------------------------------------\u001b[0m",
      "\u001b[0;31mImportError\u001b[0m                               Traceback (most recent call last)",
      "Cell \u001b[0;32mIn[44], line 1\u001b[0m\n\u001b[0;32m----> 1\u001b[0m \u001b[38;5;28;01mfrom\u001b[39;00m \u001b[38;5;21;01msymengine\u001b[39;00m \u001b[38;5;28;01mimport\u001b[39;00m geometry\n",
      "\u001b[0;31mImportError\u001b[0m: cannot import name 'geometry' from 'symengine' (/home/vscode/.cache/pypoetry/virtualenvs/sympy-symengine-BfGhUN9M-py3.11/lib/python3.11/site-packages/symengine/__init__.py)"
     ]
    }
   ],
   "source": [
    "symengine.geometry"
   ]
  },
  {
   "cell_type": "code",
   "execution_count": null,
   "id": "d961448f-0751-4754-b2db-363bdb8616ca",
   "metadata": {},
   "outputs": [],
   "source": []
  }
 ],
 "metadata": {
  "kernelspec": {
   "display_name": "Python 3 (ipykernel)",
   "language": "python",
   "name": "python3"
  },
  "language_info": {
   "codemirror_mode": {
    "name": "ipython",
    "version": 3
   },
   "file_extension": ".py",
   "mimetype": "text/x-python",
   "name": "python",
   "nbconvert_exporter": "python",
   "pygments_lexer": "ipython3",
   "version": "3.11.4"
  }
 },
 "nbformat": 4,
 "nbformat_minor": 5
}
